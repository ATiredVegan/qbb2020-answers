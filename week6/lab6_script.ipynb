{
 "cells": [
  {
   "cell_type": "code",
   "execution_count": 1,
   "metadata": {},
   "outputs": [],
   "source": [
    "# imports\n",
    "import gzip\n",
    "import matplotlib.pyplot as plt"
   ]
  },
  {
   "cell_type": "code",
   "execution_count": 58,
   "metadata": {},
   "outputs": [],
   "source": [
    "#opens bedgraph files \n",
    "e5=gzip.open(\"E5.5Epi_sorted.bedGraph.gz\")\n",
    "e4=gzip.open(\"E4.0ICM_sorted.bedGraph.gz\")\n",
    "ref=open(\"mm10chr6.bed\")"
   ]
  },
  {
   "cell_type": "code",
   "execution_count": 59,
   "metadata": {},
   "outputs": [],
   "source": [
    "gene_dict={}\n",
    "e4_methylation_dict={}\n",
    "e5_methylation_dict={}\n",
    "# dictionary of genes\n",
    "for line in ref:\n",
    "    gene=line.split(\"\\t\")\n",
    "    start=gene[4]\n",
    "    end=gene[5]\n",
    "    name=gene[12]\n",
    "    gene_dict[name]=(int(start),int(end))\n",
    "#dictionary of nucleotide positions in both cell types. Binary files so need to decode them\n",
    "for line in e4:\n",
    "    if b'\\t' not in line:\n",
    "        pass\n",
    "    else:\n",
    "        met=line.split(b'\\t')\n",
    "        start=met[1]\n",
    "        meth=met[3]\n",
    "        e4_methylation_dict[int(start.decode(\"utf-8\"))]=float(meth.decode(\"utf-8\")[:-1])\n",
    "        \n",
    "for line in e5:\n",
    "    if b'\\t' not in line:\n",
    "        pass\n",
    "    else:\n",
    "        met=line.split(b'\\t')\n",
    "        start=met[1]\n",
    "        meth=met[3]\n",
    "        e5_methylation_dict[int(start.decode(\"utf-8\"))]=float(meth.decode(\"utf-8\")[:-1])"
   ]
  },
  {
   "cell_type": "code",
   "execution_count": 70,
   "metadata": {},
   "outputs": [],
   "source": [
    "enriched=[]\n",
    "#finds the methylation percent in each gene \n",
    "for gene in gene_dict: \n",
    "    start=gene_dict[gene][0]\n",
    "    end=gene_dict[gene][1]\n",
    "    sites4=0\n",
    "    total4=0\n",
    "    sites5=0\n",
    "    total5=0\n",
    "    for i in range(start,end):\n",
    "        if i in e4_methylation_dict:\n",
    "            sites4+=1\n",
    "            total4+=e4_methylation_dict[i]\n",
    "        if i in e5_methylation_dict:\n",
    "            sites5+=1\n",
    "            total5+=e5_methylation_dict[i]\n",
    "    #only takes genes that have some methylation and that are encriched\n",
    "    if total4!=0 and total5/sites5>total4/sites4:\n",
    "        enriched.append((gene,(total5/sites5)/(total4/sites4)))"
   ]
  },
  {
   "cell_type": "code",
   "execution_count": 71,
   "metadata": {},
   "outputs": [
    {
     "name": "stdout",
     "output_type": "stream",
     "text": [
      "[('Mpp6', 2.8712002044947935), ('Dfna5', 4.0071691078206015), ('Osbpl3', 4.893598183151488), ('Cycs', 11.795737163309319), ('5430402O13Rik', 3.017810911023036), ('4921507P07Rik', 3.190640621972486), ('Npvf', 4.164835164835164), ('C530044C16Rik', 2.365469742380706), ('Gm6559', 2.7359420947847317), ('Nfe2l3', 3.2658978784388646), ('Hnrnpa2b1', 4.924927113702623), ('Cbx3', 5.108834305105265), ('Snx10', 4.458398475984229), ('Skap2', 2.853868562864801), ('Halr1', 16.59872956645345), ('Hotairm1', 3.5384615384615388), ('Hoxa2', 6.698305084745751), ('Hoxa3', 2.2485165326509704), ('Hoxa4', 8.525000000000011), ('Hoxaas3', 1.7474380165289256), ('Hoxa5', 4.410934744268078), ('Hoxa6', 13.333333333333306), ('Hoxa7', 1.378125), ('Hoxa9', 2.098498023715415), ('Hoxa11os', 3.2714776632302405), ('Hoxa13', 1.8775510204081634), ('Hottip', 1.9542673107890502), ('Evx1os', 1.503759398496241), ('1700094M24Rik', 2.7847132539340897), ('Hibadh', 2.6870360376480513), ('Tax1bp1', 2.308751214330228), ('Jazf1', 2.861786010092916), ('Gm4872', 4.016000000000001), ('9430076C15Rik', 4.981565023934621), ('Creb5', 5.19868809785461), ('Tril', 1.2040816326530612), ('Cpvl', 3.9153245792964744), ('4921529L05Rik', 4.3420830993823705), ('Chn2', 3.03236616575669), ('9130019P16Rik', 3.947488179961403), ('Prr15', 13.066666666666666), ('Wipf3', 6.172231672480712), ('Scrn1', 6.147211791119174), ('Fkbp14', 3.293575090291511), ('Plekha8', 3.3516482668022363), ('Mturn', 12.723113158790555), ('Znrf2', 4.93371270798042), ('Nod1', 4.588379282416749), ('Ggct', 2.6969947484140215), ('Gars', 3.07573846910501), ('Crhr2', 3.988140800739756), ('Inmt', 3.7714285714285714), ('Fam188b', 2.9091714385372534), ('Aqp1', 5.081932773109244), ('Ghrhr', 6.280864197530865), ('6430584L05Rik', 21.18014109347443), ('Adcyap1r1', 2.1636332556242777), ('Neurod6', 4.333333333333333), ('Gm3279', 5.933510324483777), ('Ccdc129', 4.105482432483168), ('Ppp1r17', 19.25281385281385), ('Pde1c', 2.5116937048595007), ('Lsm5', 3.9111111111111114), ('Avl9', 2.522972313949464), ('Kbtbd2', 6.166676170541665), ('Fkbp9', 3.178714826623961), ('Nt5c3', 2.9532200417537893), ('Vmn1r5', 1.5), ('Vmn1r8', 7.085714285714282), ('Vmn1r11', 1.4), ('Vmn1r15', 3.0), ('Ppm1k', 2.548696285518386), ('Herc6', 3.0350761011502585), ('Pyurf', 1.2103729603729605), ('Lancl2', 2.5139728536930632), ('Vopp1', 4.8680863484589745), ('Vmn1r27', 3.0), ('Vmn1r29', 1.5), ('Vmn1r30', 4.0), ('Abcg2', 4.223556817461692), ('Herc3', 2.2476807409073136), ('Nap1l5', 2.5714285714285716), ('Fam13a', 4.5572982236570745), ('Tigd2', 2.108120649651972), ('Gprin3', 5.873377192545399)]\n"
     ]
    }
   ],
   "source": [
    "#prints list of genes and fold enrichment \n",
    "print(enriched)"
   ]
  },
  {
   "cell_type": "code",
   "execution_count": null,
   "metadata": {},
   "outputs": [],
   "source": []
  }
 ],
 "metadata": {
  "kernelspec": {
   "display_name": "Python 3",
   "language": "python",
   "name": "python3"
  },
  "language_info": {
   "codemirror_mode": {
    "name": "ipython",
    "version": 3
   },
   "file_extension": ".py",
   "mimetype": "text/x-python",
   "name": "python",
   "nbconvert_exporter": "python",
   "pygments_lexer": "ipython3",
   "version": "3.6.10"
  }
 },
 "nbformat": 4,
 "nbformat_minor": 4
}

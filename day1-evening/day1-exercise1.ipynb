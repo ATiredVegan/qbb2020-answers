{
 "cells": [
  {
   "cell_type": "code",
   "execution_count": 20,
   "metadata": {},
   "outputs": [],
   "source": [
    "full_filename='SRR072893.sam'\n",
    "debug_filename='debug.sam'"
   ]
  },
  {
   "cell_type": "markdown",
   "metadata": {},
   "source": [
    "# Count Number of alignments \n",
    "\n",
    "We check the FLAG field of each SAM entry. If it is zero, that means there's no alignments. In this case, that doesn't happen to be true"
   ]
  },
  {
   "cell_type": "code",
   "execution_count": 58,
   "metadata": {
    "scrolled": false
   },
   "outputs": [
    {
     "name": "stdout",
     "output_type": "stream",
     "text": [
      "2000000\n"
     ]
    }
   ],
   "source": [
    "full_file=open(full_filename,'r')\n",
    "count=0\n",
    "for line in full_file:\n",
    "    values=line.split('\\t')\n",
    "    flag=values[3]\n",
    "    if int(flag)!=0:\n",
    "        count+=1\n",
    "print(count)\n",
    "full_file.close()"
   ]
  },
  {
   "cell_type": "markdown",
   "metadata": {},
   "source": [
    "Question 2: To find the number of perfect hits we look for the NM tag, which tells us the edit distance between each read and the reference file. If this value is zero, then the read is \"perfect\""
   ]
  },
  {
   "cell_type": "code",
   "execution_count": 89,
   "metadata": {},
   "outputs": [
    {
     "name": "stdout",
     "output_type": "stream",
     "text": [
      "1702765\n"
     ]
    }
   ],
   "source": [
    "full=open(full_filename,'r')\n",
    "counter=0\n",
    "for line in full:\n",
    "    values=line.split('\\t')\n",
    "    for tag in values:\n",
    "        if 'NM' in tag:\n",
    "            if int(tag[5:])==0:\n",
    "                counter+=1\n",
    "print(counter)\n",
    "full.close()"
   ]
  },
  {
   "cell_type": "markdown",
   "metadata": {},
   "source": [
    "Question 3: The third field tells us the identity of the reference sequence (in this case the chromosome number). We can just  print that"
   ]
  },
  {
   "cell_type": "code",
   "execution_count": 55,
   "metadata": {},
   "outputs": [
    {
     "name": "stdout",
     "output_type": "stream",
     "text": [
      "2L\n",
      "2L\n",
      "2L\n",
      "2L\n",
      "2L\n",
      "2L\n",
      "2L\n",
      "2L\n",
      "2L\n",
      "2L\n"
     ]
    }
   ],
   "source": [
    "full=open(full_filename,'r')\n",
    "alignment_num=0\n",
    "for line in full: \n",
    "    if alignment_num>=10:\n",
    "        break\n",
    "    values=line.split('\\t')\n",
    "    print(values[2])\n",
    "    alignment_num+=1"
   ]
  },
  {
   "cell_type": "markdown",
   "metadata": {},
   "source": [
    "Question 4: The map score is encoded in the MAP field (the fifth field in each SAM read). To find the average of this we can just sum all MAP scores and divide by total reads"
   ]
  },
  {
   "cell_type": "code",
   "execution_count": 90,
   "metadata": {},
   "outputs": [
    {
     "name": "stdout",
     "output_type": "stream",
     "text": [
      "59.6407825\n"
     ]
    }
   ],
   "source": [
    "full=open(full_filename,'r')\n",
    "counter=0\n",
    "map_cum=0\n",
    "for line in full:\n",
    "    counter+=1\n",
    "    values=line.split('\\t')\n",
    "    map_cum+=int(values[4])\n",
    "print(map_cum/counter)"
   ]
  },
  {
   "cell_type": "markdown",
   "metadata": {},
   "source": [
    "Question 5: We can find that the read is on the correct chromosome as in question 3. The start position is then encoded in the fourth field of each SAM read, so we can use two equality statements to check if it is between the desired nt "
   ]
  },
  {
   "cell_type": "code",
   "execution_count": 93,
   "metadata": {},
   "outputs": [
    {
     "name": "stdout",
     "output_type": "stream",
     "text": [
      "7550\n"
     ]
    }
   ],
   "source": [
    "full=open(full_filename,'r')\n",
    "counter=0\n",
    "for line in full: \n",
    "    values=line.split('\\t')\n",
    "    if values[2]=='2L':\n",
    "        if int(values[3])<20000 and int(values[3])>10000:\n",
    "            counter+=1\n",
    "print(counter)"
   ]
  },
  {
   "cell_type": "markdown",
   "metadata": {},
   "source": [
    "Advanced Question 1: The FLAG field (2nd field of each SAM read) is 16 when each read is reversed. "
   ]
  },
  {
   "cell_type": "code",
   "execution_count": 95,
   "metadata": {},
   "outputs": [
    {
     "name": "stdout",
     "output_type": "stream",
     "text": [
      "986862\n"
     ]
    }
   ],
   "source": [
    "full=open(full_filename,'r')\n",
    "counter=0\n",
    "for line in full: \n",
    "    values=line.split('\\t')\n",
    "    if int(values[1])==16:\n",
    "        counter+=1\n",
    "print(counter)"
   ]
  },
  {
   "cell_type": "markdown",
   "metadata": {},
   "source": [
    "Advanced Question 2: The quality of each nucleotide in the read is encoded as an ASCII character in the 11th field of each SAM read. Since it is a phred score, we subtract 33 from the conversion of each character to its numeric equivalent. To get the quality of the whole read, we average  the phred scores of each character"
   ]
  },
  {
   "cell_type": "code",
   "execution_count": 96,
   "metadata": {},
   "outputs": [
    {
     "name": "stdout",
     "output_type": "stream",
     "text": [
      "1388308\n"
     ]
    }
   ],
   "source": [
    "full=open(full_filename,'r')\n",
    "counter=0\n",
    "for line in full: \n",
    "    values=line.split('\\t')\n",
    "    code=0\n",
    "    seqlen=0\n",
    "    for char in values[10]:\n",
    "        code+=ord(char)-33\n",
    "        seqlen+=1\n",
    "    if code/seqlen>=30:\n",
    "        counter+=1\n",
    "print(counter)\n",
    "    "
   ]
  },
  {
   "cell_type": "markdown",
   "metadata": {},
   "source": [
    "Advanced Question 3: The CIGAR format encodes information with a character that denotes an operation (D for deletion, M for match, etc) preceded by a integer that denotes how many times that operation is performed. To find how many indels are present, we look for the characters 'D' and 'I' in the CIGAR string. Then we look 1 or 2 characters before either and add the integers. Each read is binned depending on how many indels are counted to be present"
   ]
  },
  {
   "cell_type": "code",
   "execution_count": 87,
   "metadata": {},
   "outputs": [
    {
     "name": "stdout",
     "output_type": "stream",
     "text": [
      "2883 0 0 0 0\n"
     ]
    }
   ],
   "source": [
    "full=open(full_filename,'r')\n",
    "counter=0\n",
    "bin1=0\n",
    "bin2=0\n",
    "bin3=0\n",
    "bin4=0\n",
    "bingreater=0\n",
    "numbers=['0','1','2','3','4','5','6','7','8','9']\n",
    "for line in full: \n",
    "    values=line.split('\\t')\n",
    "    indels=0\n",
    "    if 'D' in values[5]:\n",
    "        if values[5][values[5].index('D')-2] in numbers:\n",
    "            indels+=int(values[5][values[5].index('D')-2:values[5].index('D')])\n",
    "        else:\n",
    "            indels+=int(values[5][values[5].index('D')-1])\n",
    "    if 'I' in values[5]:\n",
    "        if values[5][values[5].index('I')-2] in numbers:\n",
    "            indels+=int(values[5][values[5].index('I')-2:values[5].index('I')])\n",
    "        else:\n",
    "            indels+=int(values[5][values[5].index('I')-1])\n",
    "    if indels==1:\n",
    "        bin1+=1\n",
    "    elif indels==2:\n",
    "        bin2+=1\n",
    "    elif indels==3:\n",
    "        bin3+=1\n",
    "    elif indels==4:\n",
    "        bin4+=1\n",
    "    elif indels>=4:\n",
    "        bingreater+=1\n",
    "print(bin1,bin2,bin3,bin4,bingreater)"
   ]
  },
  {
   "cell_type": "code",
   "execution_count": null,
   "metadata": {},
   "outputs": [],
   "source": []
  }
 ],
 "metadata": {
  "kernelspec": {
   "display_name": "Python 3",
   "language": "python",
   "name": "python3"
  },
  "language_info": {
   "codemirror_mode": {
    "name": "ipython",
    "version": 3
   },
   "file_extension": ".py",
   "mimetype": "text/x-python",
   "name": "python",
   "nbconvert_exporter": "python",
   "pygments_lexer": "ipython3",
   "version": "3.6.10"
  }
 },
 "nbformat": 4,
 "nbformat_minor": 4
}

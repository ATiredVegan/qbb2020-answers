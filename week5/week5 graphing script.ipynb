{
 "cells": [
  {
   "cell_type": "code",
   "execution_count": 24,
   "metadata": {},
   "outputs": [],
   "source": [
    "import matplotlib.pyplot as plt \n",
    "import pandas as pd"
   ]
  },
  {
   "cell_type": "code",
   "execution_count": 4,
   "metadata": {},
   "outputs": [],
   "source": [
    "ge1_filenames=[\"ER4_promoter_overlap.bed\",\"ER4_intron_overlap.bed\",\"ER4_exon_overlap.bed\"]\n",
    "er4_filenames=[\"G1E_promoter_overlap.bed\",\"G1E_intron_overlap.bed\",\"G1E_exon_overlap.bed\"]"
   ]
  },
  {
   "cell_type": "code",
   "execution_count": 11,
   "metadata": {},
   "outputs": [],
   "source": [
    "ge1_lines=[]\n",
    "er4_lines=[]\n",
    "for filename in ge1_filenames: \n",
    "    file=open(filename)\n",
    "\n",
    "    ge1_lines.append(sum(1 for line in file))\n",
    "    file.close()\n",
    "for filename in er4_filenames: \n",
    "    file=open(filename)\n",
    "    er4_lines.append(sum(1 for line in file))\n",
    "    file.close()"
   ]
  },
  {
   "cell_type": "code",
   "execution_count": 12,
   "metadata": {},
   "outputs": [
    {
     "name": "stdout",
     "output_type": "stream",
     "text": [
      "[55, 311, 85] [67, 341, 101]\n"
     ]
    }
   ],
   "source": [
    "print(er4_lines, ge1_lines)"
   ]
  },
  {
   "cell_type": "code",
   "execution_count": 9,
   "metadata": {},
   "outputs": [],
   "source": [
    "lg=[]\n",
    "lg.append(sum(1 for line in open(\"lost.bed\")))\n",
    "lg.append(sum(1 for line in open(\"gained.bed\")))"
   ]
  },
  {
   "cell_type": "code",
   "execution_count": 10,
   "metadata": {},
   "outputs": [
    {
     "name": "stdout",
     "output_type": "stream",
     "text": [
      "[664, 598]\n"
     ]
    }
   ],
   "source": [
    "print(lg)"
   ]
  },
  {
   "cell_type": "code",
   "execution_count": 22,
   "metadata": {},
   "outputs": [
    {
     "data": {
      "text/plain": [
       "<matplotlib.legend.Legend at 0x7fd68a375198>"
      ]
     },
     "execution_count": 22,
     "metadata": {},
     "output_type": "execute_result"
    },
    {
     "data": {
      "image/png": "[encoded data removed]",
      "text/plain": [
       "<Figure size 720x720 with 2 Axes>"
      ]
     },
     "metadata": {
      "needs_background": "light"
     },
     "output_type": "display_data"
    }
   ],
   "source": [
    "fig,ax=plt.subplots(1,2,figsize=(10,10))\n",
    "ax[0].bar([\"Promoter\",\"Intron\",\"Exon\"],ge1_lines,label=\"Predifferentiation\")\n",
    "ax[0].bar([\"Promoter\",\"Intron\",\"Exon\"],er4_lines,label=\"Postdifferentiation\")\n",
    "ax[1].bar([\"lost\",\"gained\"],lg)\n",
    "ax[0].legend()"
   ]
  },
  {
   "cell_type": "markdown",
   "metadata": {},
   "source": [
    "# Part 2: Motif Finding \n"
   ]
  },
  {
   "cell_type": "code",
   "execution_count": null,
   "metadata": {},
   "outputs": [],
   "source": []
  }
 ],
 "metadata": {
  "kernelspec": {
   "display_name": "Python 3",
   "language": "python",
   "name": "python3"
  },
  "language_info": {
   "codemirror_mode": {
    "name": "ipython",
    "version": 3
   },
   "file_extension": ".py",
   "mimetype": "text/x-python",
   "name": "python",
   "nbconvert_exporter": "python",
   "pygments_lexer": "ipython3",
   "version": "3.6.10"
  }
 },
 "nbformat": 4,
 "nbformat_minor": 4
}
